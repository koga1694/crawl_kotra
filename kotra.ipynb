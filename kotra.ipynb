{
 "cells": [
  {
   "cell_type": "code",
   "execution_count": 15,
   "metadata": {},
   "outputs": [],
   "source": [
    "\n",
    "import pandas as pd\n",
    "import numpy as np\n",
    "import matplotlib.pyplot as plt\n",
    "import seaborn as sns\n",
    "import requests\n",
    "from tqdm import tqdm_notebook as tn\n",
    "import time\n",
    "import schedule\n",
    "import scrapy as sc\n",
    "from bs4 import BeautifulSoup\n",
    "from selenium import webdriver\n",
    "from selenium.webdriver.common.keys import Keys\n",
    "from selenium.webdriver.common.by import By"
   ]
  },
  {
   "cell_type": "markdown",
   "metadata": {},
   "source": [
    "# BeautifulSoup & Selenium"
   ]
  },
  {
   "cell_type": "code",
   "execution_count": 17,
   "metadata": {},
   "outputs": [
    {
     "name": "stderr",
     "output_type": "stream",
     "text": [
      "C:\\Users\\signlab026\\AppData\\Local\\Temp\\ipykernel_8940\\1562520279.py:1: DeprecationWarning: executable_path has been deprecated, please pass in a Service object\n",
      "  driver = webdriver.Chrome('C:/workplace/chromedriver')\n"
     ]
    }
   ],
   "source": [
    "\n",
    "driver = webdriver.Chrome('C:/workplace/chromedriver')\n",
    "base_url = 'https://www.kotra.or.kr/bigdata/visualization/global#search/'\n",
    "add_url = 'ALL/ALL/842240/2020'\n",
    "url = base_url + add_url\n",
    "x_path = '//*[@id=\"container\"]/div[5]/div/ul/li[4]/div/h3/span[2]/button'\n",
    "driver.get(url)\n",
    "\n",
    "time.sleep(10)\n",
    "\n",
    "searchbox = driver.find_element(by=By.XPATH, value= x_path)\n",
    "searchbox.send_keys(Keys.ENTER)\n"
   ]
  },
  {
   "cell_type": "code",
   "execution_count": null,
   "metadata": {},
   "outputs": [],
   "source": [
    "/html/body/div[1]/div[1]/div[5]/div/ul/li[4]/div/h3/span[2]/button"
   ]
  },
  {
   "cell_type": "code",
   "execution_count": null,
   "metadata": {},
   "outputs": [],
   "source": []
  },
  {
   "cell_type": "markdown",
   "metadata": {},
   "source": [
    "# scrapy"
   ]
  },
  {
   "cell_type": "code",
   "execution_count": 3,
   "metadata": {},
   "outputs": [],
   "source": [
    "class testsc(sc.Spider):\n",
    "    name = 'kotra_0824'\n",
    "    allowed_domains = ['kotra.or.kr']\n",
    "    start_urls = ['https://www.kotra.or.kr/']\n",
    "    \n",
    "    def start_requests(self):\n",
    "        urls = [\n",
    "            'https://www.kotra.or.kr/bigdata/visualization/korea#search/ALL/160100/2019',\n",
    "            'https://www.kotra.or.kr/bigdata/visualization/korea#search/ALL/160100/2028'\n",
    "        ]\n",
    "        for url in urls:\n",
    "            yield sc.Request(url=url, callback=self.parse)\n",
    "    \n",
    "    def parse(self, response, **kwargs):\n",
    "        page = response.url.split('/')[-6]\n",
    "        filename = f'quotes-{page}.html'\n",
    "        with open(filename, 'wb') as f:\n",
    "            f.write(response.body)\n",
    "            \n",
    "        self.log(f'Saved File {filename}')\n"
   ]
  },
  {
   "cell_type": "code",
   "execution_count": null,
   "metadata": {},
   "outputs": [],
   "source": []
  }
 ],
 "metadata": {
  "kernelspec": {
   "display_name": "Python 3.8.13 ('gibo')",
   "language": "python",
   "name": "python3"
  },
  "language_info": {
   "codemirror_mode": {
    "name": "ipython",
    "version": 3
   },
   "file_extension": ".py",
   "mimetype": "text/x-python",
   "name": "python",
   "nbconvert_exporter": "python",
   "pygments_lexer": "ipython3",
   "version": "3.8.13"
  },
  "orig_nbformat": 4,
  "vscode": {
   "interpreter": {
    "hash": "dc1e82e8c2e80dfa7e7e3acbec24fc4d7ec5d11c3457420f2152c3746fdf3c94"
   }
  }
 },
 "nbformat": 4,
 "nbformat_minor": 2
}
