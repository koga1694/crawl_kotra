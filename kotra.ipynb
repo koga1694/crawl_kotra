{
 "cells": [
  {
   "cell_type": "code",
   "execution_count": 22,
   "metadata": {},
   "outputs": [],
   "source": [
    "\n",
    "import pandas as pd\n",
    "import numpy as np\n",
    "import matplotlib.pyplot as plt\n",
    "import seaborn as sns\n",
    "import requests\n",
    "from tqdm import tqdm_notebook as tn\n",
    "from time import sleep\n",
    "import schedule\n",
    "import scrapy as sc\n",
    "from bs4 import BeautifulSoup\n",
    "from selenium import webdriver\n",
    "from selenium.webdriver.common.keys import Keys\n",
    "from selenium.webdriver.common.by import By"
   ]
  },
  {
   "cell_type": "markdown",
   "metadata": {},
   "source": [
    "# BeautifulSoup & Selenium"
   ]
  },
  {
   "cell_type": "code",
   "execution_count": 63,
   "metadata": {},
   "outputs": [
    {
     "name": "stderr",
     "output_type": "stream",
     "text": [
      "C:\\Users\\signlab026\\AppData\\Local\\Temp\\ipykernel_8940\\2328797954.py:1: DeprecationWarning: executable_path has been deprecated, please pass in a Service object\n",
      "  driver = webdriver.Chrome('C:/workplace/chromedriver')\n"
     ]
    },
    {
     "ename": "ElementNotInteractableException",
     "evalue": "Message: element not interactable\n  (Session info: chrome=104.0.5112.102)\nStacktrace:\nBacktrace:\n\tOrdinal0 [0x003F78B3+2193587]\n\tOrdinal0 [0x00390681+1771137]\n\tOrdinal0 [0x002A4070+802928]\n\tOrdinal0 [0x002CDB83+973699]\n\tOrdinal0 [0x002CD25C+971356]\n\tOrdinal0 [0x002ED7AC+1103788]\n\tOrdinal0 [0x002C8C04+953348]\n\tOrdinal0 [0x002ED9C4+1104324]\n\tOrdinal0 [0x002FDAE2+1170146]\n\tOrdinal0 [0x002ED5C6+1103302]\n\tOrdinal0 [0x002C77E0+948192]\n\tOrdinal0 [0x002C86E6+952038]\n\tGetHandleVerifier [0x006A0CB2+2738370]\n\tGetHandleVerifier [0x006921B8+2678216]\n\tGetHandleVerifier [0x004817AA+512954]\n\tGetHandleVerifier [0x00480856+509030]\n\tOrdinal0 [0x0039743B+1799227]\n\tOrdinal0 [0x0039BB68+1817448]\n\tOrdinal0 [0x0039BC55+1817685]\n\tOrdinal0 [0x003A5230+1856048]\n\tBaseThreadInitThunk [0x75A0FA29+25]\n\tRtlGetAppContainerNamedObjectPath [0x772F7A9E+286]\n\tRtlGetAppContainerNamedObjectPath [0x772F7A6E+238]\n",
     "output_type": "error",
     "traceback": [
      "\u001b[1;31m---------------------------------------------------------------------------\u001b[0m",
      "\u001b[1;31mElementNotInteractableException\u001b[0m           Traceback (most recent call last)",
      "\u001b[1;32mc:\\workplace\\빅분사_테크로스제외\\진심유통\\kotra.ipynb 셀 3\u001b[0m in \u001b[0;36m<cell line: 13>\u001b[1;34m()\u001b[0m\n\u001b[0;32m     <a href='vscode-notebook-cell:/c%3A/workplace/%EB%B9%85%EB%B6%84%EC%82%AC_%ED%85%8C%ED%81%AC%EB%A1%9C%EC%8A%A4%EC%A0%9C%EC%99%B8/%EC%A7%84%EC%8B%AC%EC%9C%A0%ED%86%B5/kotra.ipynb#W4sZmlsZQ%3D%3D?line=9'>10</a>\u001b[0m time\u001b[39m.\u001b[39msleep(\u001b[39m10\u001b[39m)\n\u001b[0;32m     <a href='vscode-notebook-cell:/c%3A/workplace/%EB%B9%85%EB%B6%84%EC%82%AC_%ED%85%8C%ED%81%AC%EB%A1%9C%EC%8A%A4%EC%A0%9C%EC%99%B8/%EC%A7%84%EC%8B%AC%EC%9C%A0%ED%86%B5/kotra.ipynb#W4sZmlsZQ%3D%3D?line=11'>12</a>\u001b[0m searchbox \u001b[39m=\u001b[39m driver\u001b[39m.\u001b[39mfind_element(by\u001b[39m=\u001b[39mBy\u001b[39m.\u001b[39mXPATH, value\u001b[39m=\u001b[39m x_path)\n\u001b[1;32m---> <a href='vscode-notebook-cell:/c%3A/workplace/%EB%B9%85%EB%B6%84%EC%82%AC_%ED%85%8C%ED%81%AC%EB%A1%9C%EC%8A%A4%EC%A0%9C%EC%99%B8/%EC%A7%84%EC%8B%AC%EC%9C%A0%ED%86%B5/kotra.ipynb#W4sZmlsZQ%3D%3D?line=12'>13</a>\u001b[0m searchbox\u001b[39m.\u001b[39;49msend_keys(Keys\u001b[39m.\u001b[39;49mENTER)\n",
      "File \u001b[1;32mc:\\Users\\signlab026\\anaconda3\\envs\\gibo\\lib\\site-packages\\selenium\\webdriver\\remote\\webelement.py:223\u001b[0m, in \u001b[0;36mWebElement.send_keys\u001b[1;34m(self, *value)\u001b[0m\n\u001b[0;32m    220\u001b[0m             remote_files\u001b[39m.\u001b[39mappend(\u001b[39mself\u001b[39m\u001b[39m.\u001b[39m_upload(file))\n\u001b[0;32m    221\u001b[0m         value \u001b[39m=\u001b[39m \u001b[39m'\u001b[39m\u001b[39m\\n\u001b[39;00m\u001b[39m'\u001b[39m\u001b[39m.\u001b[39mjoin(remote_files)\n\u001b[1;32m--> 223\u001b[0m \u001b[39mself\u001b[39;49m\u001b[39m.\u001b[39;49m_execute(Command\u001b[39m.\u001b[39;49mSEND_KEYS_TO_ELEMENT,\n\u001b[0;32m    224\u001b[0m               {\u001b[39m'\u001b[39;49m\u001b[39mtext\u001b[39;49m\u001b[39m'\u001b[39;49m: \u001b[39m\"\u001b[39;49m\u001b[39m\"\u001b[39;49m\u001b[39m.\u001b[39;49mjoin(keys_to_typing(value)),\n\u001b[0;32m    225\u001b[0m                \u001b[39m'\u001b[39;49m\u001b[39mvalue\u001b[39;49m\u001b[39m'\u001b[39;49m: keys_to_typing(value)})\n",
      "File \u001b[1;32mc:\\Users\\signlab026\\anaconda3\\envs\\gibo\\lib\\site-packages\\selenium\\webdriver\\remote\\webelement.py:396\u001b[0m, in \u001b[0;36mWebElement._execute\u001b[1;34m(self, command, params)\u001b[0m\n\u001b[0;32m    394\u001b[0m     params \u001b[39m=\u001b[39m {}\n\u001b[0;32m    395\u001b[0m params[\u001b[39m'\u001b[39m\u001b[39mid\u001b[39m\u001b[39m'\u001b[39m] \u001b[39m=\u001b[39m \u001b[39mself\u001b[39m\u001b[39m.\u001b[39m_id\n\u001b[1;32m--> 396\u001b[0m \u001b[39mreturn\u001b[39;00m \u001b[39mself\u001b[39;49m\u001b[39m.\u001b[39;49m_parent\u001b[39m.\u001b[39;49mexecute(command, params)\n",
      "File \u001b[1;32mc:\\Users\\signlab026\\anaconda3\\envs\\gibo\\lib\\site-packages\\selenium\\webdriver\\remote\\webdriver.py:428\u001b[0m, in \u001b[0;36mWebDriver.execute\u001b[1;34m(self, driver_command, params)\u001b[0m\n\u001b[0;32m    426\u001b[0m response \u001b[39m=\u001b[39m \u001b[39mself\u001b[39m\u001b[39m.\u001b[39mcommand_executor\u001b[39m.\u001b[39mexecute(driver_command, params)\n\u001b[0;32m    427\u001b[0m \u001b[39mif\u001b[39;00m response:\n\u001b[1;32m--> 428\u001b[0m     \u001b[39mself\u001b[39;49m\u001b[39m.\u001b[39;49merror_handler\u001b[39m.\u001b[39;49mcheck_response(response)\n\u001b[0;32m    429\u001b[0m     response[\u001b[39m'\u001b[39m\u001b[39mvalue\u001b[39m\u001b[39m'\u001b[39m] \u001b[39m=\u001b[39m \u001b[39mself\u001b[39m\u001b[39m.\u001b[39m_unwrap_value(\n\u001b[0;32m    430\u001b[0m         response\u001b[39m.\u001b[39mget(\u001b[39m'\u001b[39m\u001b[39mvalue\u001b[39m\u001b[39m'\u001b[39m, \u001b[39mNone\u001b[39;00m))\n\u001b[0;32m    431\u001b[0m     \u001b[39mreturn\u001b[39;00m response\n",
      "File \u001b[1;32mc:\\Users\\signlab026\\anaconda3\\envs\\gibo\\lib\\site-packages\\selenium\\webdriver\\remote\\errorhandler.py:243\u001b[0m, in \u001b[0;36mErrorHandler.check_response\u001b[1;34m(self, response)\u001b[0m\n\u001b[0;32m    241\u001b[0m         alert_text \u001b[39m=\u001b[39m value[\u001b[39m'\u001b[39m\u001b[39malert\u001b[39m\u001b[39m'\u001b[39m]\u001b[39m.\u001b[39mget(\u001b[39m'\u001b[39m\u001b[39mtext\u001b[39m\u001b[39m'\u001b[39m)\n\u001b[0;32m    242\u001b[0m     \u001b[39mraise\u001b[39;00m exception_class(message, screen, stacktrace, alert_text)  \u001b[39m# type: ignore[call-arg]  # mypy is not smart enough here\u001b[39;00m\n\u001b[1;32m--> 243\u001b[0m \u001b[39mraise\u001b[39;00m exception_class(message, screen, stacktrace)\n",
      "\u001b[1;31mElementNotInteractableException\u001b[0m: Message: element not interactable\n  (Session info: chrome=104.0.5112.102)\nStacktrace:\nBacktrace:\n\tOrdinal0 [0x003F78B3+2193587]\n\tOrdinal0 [0x00390681+1771137]\n\tOrdinal0 [0x002A4070+802928]\n\tOrdinal0 [0x002CDB83+973699]\n\tOrdinal0 [0x002CD25C+971356]\n\tOrdinal0 [0x002ED7AC+1103788]\n\tOrdinal0 [0x002C8C04+953348]\n\tOrdinal0 [0x002ED9C4+1104324]\n\tOrdinal0 [0x002FDAE2+1170146]\n\tOrdinal0 [0x002ED5C6+1103302]\n\tOrdinal0 [0x002C77E0+948192]\n\tOrdinal0 [0x002C86E6+952038]\n\tGetHandleVerifier [0x006A0CB2+2738370]\n\tGetHandleVerifier [0x006921B8+2678216]\n\tGetHandleVerifier [0x004817AA+512954]\n\tGetHandleVerifier [0x00480856+509030]\n\tOrdinal0 [0x0039743B+1799227]\n\tOrdinal0 [0x0039BB68+1817448]\n\tOrdinal0 [0x0039BC55+1817685]\n\tOrdinal0 [0x003A5230+1856048]\n\tBaseThreadInitThunk [0x75A0FA29+25]\n\tRtlGetAppContainerNamedObjectPath [0x772F7A9E+286]\n\tRtlGetAppContainerNamedObjectPath [0x772F7A6E+238]\n"
     ]
    }
   ],
   "source": [
    "\n",
    "driver = webdriver.Chrome('C:/workplace/chromedriver')\n",
    "base_url = 'https://www.kotra.or.kr/bigdata/visualization/global#search/'\n",
    "add_url = 'ALL/ALL/842240/2020'\n",
    "url = base_url + add_url\n",
    "x_path = '//*[@id=\"container\"]/div[5]/div/ul/li[1]/div[4]/ul/li[1]/div[2]'\n",
    "\n",
    "url = 'https://www.kotra.or.kr/bigdata/visualization/global#search/CN/DE/847130/2021'\n",
    "driver.get(url)\n",
    "\n",
    "time.sleep(10)\n",
    "\n",
    "searchbox = driver.find_element(by=By.XPATH, value= x_path)\n",
    "searchbox.send_keys(Keys.ENTER)\n"
   ]
  },
  {
   "cell_type": "code",
   "execution_count": 23,
   "metadata": {},
   "outputs": [],
   "source": [
    "from selenium import webdriver\n",
    "from selenium.webdriver.common.keys import Keys\n",
    "from selenium.webdriver.common.by import By\n",
    "from time import time\n",
    "from tqdm import tqdm_notebook as tn\n",
    "from bs4 import BeautifulSoup\n",
    "import requests\n",
    "\n",
    "class kotra_crawl():\n",
    "    \n",
    "    def __init__(self, _import, _export, HScode, year, x_path):\n",
    "        self._import = _import\n",
    "        self._export = _export\n",
    "        self.HScode = HScode\n",
    "        self.year = year\n",
    "        self.x_path = x_path\n",
    "        \n",
    "    def get_HScode(self):\n",
    "        hs_list = []\n",
    "        for hs in self.HScode:\n",
    "            for i in range(100):\n",
    "                hs_list.append(hs + str(i))\n",
    "                \n",
    "        print('HScode 추가 완료')\n",
    "        \n",
    "        return hs_list\n",
    "        \n",
    "    def get_data(self, how):\n",
    "        base_url = 'https://www.kotra.or.kr/bigdata/visualization/global#search/'\n",
    "        driver = webdriver.Chrome('C:/workplace/chromedriver')\n",
    "        count_add = len(self._import) + len(self._export) + len(self.HScode) + len(self.year)\n",
    "        \n",
    "        if how == 'one':\n",
    "            add_url = f'{self._import}/{self._export}/{self.HScode}/{self.year}'\n",
    "            url = base_url + add_url\n",
    "            driver.get(url)\n",
    "            \n",
    "            time.sleep(10)\n",
    "            searchbox = driver.find_element(by=By.XPATH, value= self.x_path)\n",
    "            searchbox.send_keys(Keys.ENTER)\n",
    "            \n",
    "        \n",
    "        elif how == 'select':\n",
    "            for hs in tn(self.HScode):\n",
    "                for i in self._import:\n",
    "                    for e in self._export:  \n",
    "                        for y in self.year:\n",
    "                            add_url = f'{i}/{e}/{hs}/{y}'\n",
    "                            url = base_url + add_url\n",
    "                            driver.get(url)\n",
    "                            \n",
    "                            sleep(10)\n",
    "                            searchbox = driver.find_element(by=By.XPATH, value= self.x_path)\n",
    "                            searchbox.send_keys(Keys.ENTER)\n",
    "                            \n",
    "                            sleep(3)\n",
    "                            \n",
    "        elif how == 'all':\n",
    "            hs_list = self.get_HScode()            \n",
    "            for i in self._import:\n",
    "                for e in self._export:  \n",
    "                    for y in self.year:\n",
    "                        for hs in tn(hs_list):\n",
    "                            \n",
    "                            add_url = f'{i}/{e}/{hs}/{y}'\n",
    "                            url = base_url + add_url\n",
    "                            \n",
    "                            response = requests.get(url)\n",
    "                            html = response.text\n",
    "                            soup = BeautifulSoup(html, 'html.parser')\n",
    "                            css = '#container > div.contents > div > ul > li.row3 > div:nth-child(5) > div'\n",
    "                            test = soup.select_one(css)\n",
    "                            isin = test.get_text().__contains__('데이터가 없습니다.')\n",
    "                            \n",
    "                            if isin == False:                         \n",
    "                                driver.get(url)\n",
    "                                \n",
    "                                time.sleep(15)\n",
    "                                searchbox = driver.find_element(by=By.XPATH, value= self.x_path)\n",
    "                                searchbox.send_keys(Keys.ENTER)\n",
    "                                \n",
    "                                time.sleep(2)\n",
    "                                \n",
    "                            elif isin == True:\n",
    "                                print(f'{hs}는 없어요')\n",
    "                                \n",
    "                                pass\n",
    "        \n",
    "\n",
    "                \n",
    "                            \n",
    "                \n",
    "            \n",
    "        \n",
    "        "
   ]
  },
  {
   "cell_type": "code",
   "execution_count": 27,
   "metadata": {},
   "outputs": [
    {
     "name": "stderr",
     "output_type": "stream",
     "text": [
      "C:\\Users\\signlab026\\AppData\\Local\\Temp\\ipykernel_11056\\2105950476.py:30: DeprecationWarning: executable_path has been deprecated, please pass in a Service object\n",
      "  driver = webdriver.Chrome('C:/workplace/chromedriver')\n",
      "C:\\Users\\signlab026\\AppData\\Local\\Temp\\ipykernel_11056\\2105950476.py:44: TqdmDeprecationWarning: This function will be removed in tqdm==5.0.0\n",
      "Please use `tqdm.notebook.tqdm` instead of `tqdm.tqdm_notebook`\n",
      "  for hs in tn(self.HScode):\n"
     ]
    },
    {
     "data": {
      "application/vnd.jupyter.widget-view+json": {
       "model_id": "92c02da095fe40288ecdf3680763167f",
       "version_major": 2,
       "version_minor": 0
      },
      "text/plain": [
       "  0%|          | 0/118 [00:00<?, ?it/s]"
      ]
     },
     "metadata": {},
     "output_type": "display_data"
    },
    {
     "ename": "KeyboardInterrupt",
     "evalue": "",
     "output_type": "error",
     "traceback": [
      "\u001b[1;31m---------------------------------------------------------------------------\u001b[0m",
      "\u001b[1;31mKeyboardInterrupt\u001b[0m                         Traceback (most recent call last)",
      "\u001b[1;32mc:\\workplace\\빅분사_테크로스제외\\진심유통\\kotra.ipynb 셀 5\u001b[0m in \u001b[0;36m<cell line: 24>\u001b[1;34m()\u001b[0m\n\u001b[0;32m     <a href='vscode-notebook-cell:/c%3A/workplace/%EB%B9%85%EB%B6%84%EC%82%AC_%ED%85%8C%ED%81%AC%EB%A1%9C%EC%8A%A4%EC%A0%9C%EC%99%B8/%EC%A7%84%EC%8B%AC%EC%9C%A0%ED%86%B5/kotra.ipynb#W4sZmlsZQ%3D%3D?line=20'>21</a>\u001b[0m x_path \u001b[39m=\u001b[39m \u001b[39m'\u001b[39m\u001b[39m//*[@id=\u001b[39m\u001b[39m\"\u001b[39m\u001b[39mcontainer\u001b[39m\u001b[39m\"\u001b[39m\u001b[39m]/div[5]/div/ul/li[4]/div/h3/span[2]/button\u001b[39m\u001b[39m'\u001b[39m\n\u001b[0;32m     <a href='vscode-notebook-cell:/c%3A/workplace/%EB%B9%85%EB%B6%84%EC%82%AC_%ED%85%8C%ED%81%AC%EB%A1%9C%EC%8A%A4%EC%A0%9C%EC%99%B8/%EC%A7%84%EC%8B%AC%EC%9C%A0%ED%86%B5/kotra.ipynb#W4sZmlsZQ%3D%3D?line=21'>22</a>\u001b[0m food \u001b[39m=\u001b[39m kotra_crawl(_import \u001b[39m=\u001b[39m _import,_export \u001b[39m=\u001b[39m _export,HScode \u001b[39m=\u001b[39m HScode,x_path\u001b[39m=\u001b[39m x_path, year\u001b[39m=\u001b[39myear)\n\u001b[1;32m---> <a href='vscode-notebook-cell:/c%3A/workplace/%EB%B9%85%EB%B6%84%EC%82%AC_%ED%85%8C%ED%81%AC%EB%A1%9C%EC%8A%A4%EC%A0%9C%EC%99%B8/%EC%A7%84%EC%8B%AC%EC%9C%A0%ED%86%B5/kotra.ipynb#W4sZmlsZQ%3D%3D?line=23'>24</a>\u001b[0m food\u001b[39m.\u001b[39;49mget_data(how\u001b[39m=\u001b[39;49m\u001b[39m'\u001b[39;49m\u001b[39mselect\u001b[39;49m\u001b[39m'\u001b[39;49m)\n",
      "\u001b[1;32mc:\\workplace\\빅분사_테크로스제외\\진심유통\\kotra.ipynb 셀 5\u001b[0m in \u001b[0;36mkotra_crawl.get_data\u001b[1;34m(self, how)\u001b[0m\n\u001b[0;32m     <a href='vscode-notebook-cell:/c%3A/workplace/%EB%B9%85%EB%B6%84%EC%82%AC_%ED%85%8C%ED%81%AC%EB%A1%9C%EC%8A%A4%EC%A0%9C%EC%99%B8/%EC%A7%84%EC%8B%AC%EC%9C%A0%ED%86%B5/kotra.ipynb#W4sZmlsZQ%3D%3D?line=48'>49</a>\u001b[0m url \u001b[39m=\u001b[39m base_url \u001b[39m+\u001b[39m add_url\n\u001b[0;32m     <a href='vscode-notebook-cell:/c%3A/workplace/%EB%B9%85%EB%B6%84%EC%82%AC_%ED%85%8C%ED%81%AC%EB%A1%9C%EC%8A%A4%EC%A0%9C%EC%99%B8/%EC%A7%84%EC%8B%AC%EC%9C%A0%ED%86%B5/kotra.ipynb#W4sZmlsZQ%3D%3D?line=49'>50</a>\u001b[0m driver\u001b[39m.\u001b[39mget(url)\n\u001b[1;32m---> <a href='vscode-notebook-cell:/c%3A/workplace/%EB%B9%85%EB%B6%84%EC%82%AC_%ED%85%8C%ED%81%AC%EB%A1%9C%EC%8A%A4%EC%A0%9C%EC%99%B8/%EC%A7%84%EC%8B%AC%EC%9C%A0%ED%86%B5/kotra.ipynb#W4sZmlsZQ%3D%3D?line=51'>52</a>\u001b[0m sleep(\u001b[39m10\u001b[39;49m)\n\u001b[0;32m     <a href='vscode-notebook-cell:/c%3A/workplace/%EB%B9%85%EB%B6%84%EC%82%AC_%ED%85%8C%ED%81%AC%EB%A1%9C%EC%8A%A4%EC%A0%9C%EC%99%B8/%EC%A7%84%EC%8B%AC%EC%9C%A0%ED%86%B5/kotra.ipynb#W4sZmlsZQ%3D%3D?line=52'>53</a>\u001b[0m searchbox \u001b[39m=\u001b[39m driver\u001b[39m.\u001b[39mfind_element(by\u001b[39m=\u001b[39mBy\u001b[39m.\u001b[39mXPATH, value\u001b[39m=\u001b[39m \u001b[39mself\u001b[39m\u001b[39m.\u001b[39mx_path)\n\u001b[0;32m     <a href='vscode-notebook-cell:/c%3A/workplace/%EB%B9%85%EB%B6%84%EC%82%AC_%ED%85%8C%ED%81%AC%EB%A1%9C%EC%8A%A4%EC%A0%9C%EC%99%B8/%EC%A7%84%EC%8B%AC%EC%9C%A0%ED%86%B5/kotra.ipynb#W4sZmlsZQ%3D%3D?line=53'>54</a>\u001b[0m searchbox\u001b[39m.\u001b[39msend_keys(Keys\u001b[39m.\u001b[39mENTER)\n",
      "\u001b[1;31mKeyboardInterrupt\u001b[0m: "
     ]
    }
   ],
   "source": [
    "# _import, _export, HScode, year, x_path\n",
    "_import = ('ALL',)\n",
    "_export = ('ALL',)\n",
    "HScode = (\n",
    "    '1601', '1905', '1602', '2004', '1603', '2005', '1604', '2103', '1605', '2104', '1901', '2105', '1902', '2106', '1517',\n",
    "    '1518', '1702', '1704', '1806', '1904', '2001', '2101', '2202', '2208', '0403')\n",
    "\n",
    "HScode = (\n",
    "    '160100', '190510', '190520', '190531', '190532', '190540', '190590', '160210', '160220', '160231', '160232', '160239', '160241', '160242', '160249', '160250', '160290',\n",
    "    '200410', '200490', '160300', '200510', '200520', '200540', '200559', '200560', '200570', '200580', '200591', '200599', '200551', '160411', '160412', '160413', '160415',\n",
    "    '160416', '160417', '160418', '160419', '160420', '160430', '160431', '160432', '160414', '210310', '210330', '210390', '160510', '160521', '160529', '260530', '160540',\n",
    "    '160551', '160552', '160553', '160554', '160555', '160556', '160557', '160558', '160559', '160561', '160562', '160563', '160569', '210410', '210420', '190110', '190120',\n",
    "    '190190', '210500', '190211', '190219', '190220', '190230', '190240', '210610', '210690', '151710', '151790', '151800', '170211', '170219', '170220', '170230', '170240',\n",
    "    '170250', '170260', '170290', '170410', '170490', '180610', '180631', '180632', '180690', '180620', '190410', '190420', '190430', '190490', '200110', '200190', '210111',\n",
    "    '210112', '210130', '220210', '220290', '220291', '220299', '220820', '220830', '220840', '220850', '220860', '220870', '220890', '040310', '040390', '040320',\n",
    ")\n",
    "\n",
    "\n",
    "\n",
    "year = (2021, 2020, 2019, 2018, 2017, 2016)\n",
    "x_path = '//*[@id=\"container\"]/div[5]/div/ul/li[4]/div/h3/span[2]/button'\n",
    "food = kotra_crawl(_import = _import,_export = _export,HScode = HScode,x_path= x_path, year=year)\n",
    "\n",
    "food.get_data(how='select')"
   ]
  },
  {
   "cell_type": "code",
   "execution_count": 75,
   "metadata": {},
   "outputs": [
    {
     "name": "stdout",
     "output_type": "stream",
     "text": [
      "1601, 1905, 1602, 2004, 1603, 2005, 1604, 2103, 1605, 2104, 1901, 2105, 1902, 2106, 1517, 1518, 1702, 1704, 1806, 1904, 2001, 2101, 2202, 2208, 0403\n"
     ]
    }
   ],
   "source": [
    "test = HScode = ('1601, 1905, 1602, 2004, 1603, 2005, 1604, 2103, 1605, 2104, 1901, 2105, 1902, 2106, 1517, 1518, 1702, 1704, 1806, 1904, 2001, 2101, 2202, 2208, 0403',)\n",
    "for i in test:\n",
    "    print(i)"
   ]
  },
  {
   "cell_type": "code",
   "execution_count": 87,
   "metadata": {},
   "outputs": [
    {
     "data": {
      "text/plain": [
       "148"
      ]
     },
     "execution_count": 87,
     "metadata": {},
     "output_type": "execute_result"
    }
   ],
   "source": [
    "test = HScode = ('1601, 1905, 1602, 2004, 1603, 2005, 1604, 2103, 1605, 2104, 1901, 2105, 1902, 2106, 1517, 1518, 1702, 1704, 1806, 1904, 2001, 2101, 2202, 2208, 0403')\n",
    "test_list = []\n",
    "def get_HScode(HScode):\n",
    "        hs_list = []\n",
    "        for hs in HScode:\n",
    "            print(hs)\n",
    "            for i in range(100):\n",
    "                test_list.append(hs + str(i))\n",
    "                \n",
    "                \n",
    "# get_HScode(test)\n",
    "len(test)"
   ]
  },
  {
   "cell_type": "code",
   "execution_count": 8,
   "metadata": {},
   "outputs": [
    {
     "ename": "AttributeError",
     "evalue": "'NoneType' object has no attribute 'get_text'",
     "output_type": "error",
     "traceback": [
      "\u001b[1;31m---------------------------------------------------------------------------\u001b[0m",
      "\u001b[1;31mAttributeError\u001b[0m                            Traceback (most recent call last)",
      "\u001b[1;32mc:\\workplace\\빅분사_테크로스제외\\진심유통\\kotra.ipynb 셀 8\u001b[0m in \u001b[0;36m<cell line: 8>\u001b[1;34m()\u001b[0m\n\u001b[0;32m      <a href='vscode-notebook-cell:/c%3A/workplace/%EB%B9%85%EB%B6%84%EC%82%AC_%ED%85%8C%ED%81%AC%EB%A1%9C%EC%8A%A4%EC%A0%9C%EC%99%B8/%EC%A7%84%EC%8B%AC%EC%9C%A0%ED%86%B5/kotra.ipynb#X10sZmlsZQ%3D%3D?line=5'>6</a>\u001b[0m css \u001b[39m=\u001b[39m \u001b[39m'\u001b[39m\u001b[39m#hscdGrid > div > div.ag-root-wrapper-body.ag-layout-normal > div.ag-root.ag-unselectable.ag-layout-normal > div.ag-body-viewport.ag-layout-normal.ag-row-no-animation > div.ag-center-cols-clipper > div > div > div.ag-row.ag-row-no-focus.ag-row-even.ag-row-level-0.ag-row-position-absolute.ag-row-first > div:nth-child(1)\u001b[39m\u001b[39m'\u001b[39m\n\u001b[0;32m      <a href='vscode-notebook-cell:/c%3A/workplace/%EB%B9%85%EB%B6%84%EC%82%AC_%ED%85%8C%ED%81%AC%EB%A1%9C%EC%8A%A4%EC%A0%9C%EC%99%B8/%EC%A7%84%EC%8B%AC%EC%9C%A0%ED%86%B5/kotra.ipynb#X10sZmlsZQ%3D%3D?line=6'>7</a>\u001b[0m test \u001b[39m=\u001b[39m soup\u001b[39m.\u001b[39mselect_one(css)\n\u001b[1;32m----> <a href='vscode-notebook-cell:/c%3A/workplace/%EB%B9%85%EB%B6%84%EC%82%AC_%ED%85%8C%ED%81%AC%EB%A1%9C%EC%8A%A4%EC%A0%9C%EC%99%B8/%EC%A7%84%EC%8B%AC%EC%9C%A0%ED%86%B5/kotra.ipynb#X10sZmlsZQ%3D%3D?line=7'>8</a>\u001b[0m test\u001b[39m.\u001b[39;49mget_text\n",
      "\u001b[1;31mAttributeError\u001b[0m: 'NoneType' object has no attribute 'get_text'"
     ]
    }
   ],
   "source": [
    "url = 'https://www.kotra.or.kr/bigdata/visualization/korea#search/ALL/ALL/2022/7'\n",
    "import requests\n",
    "response = requests.get(url)\n",
    "html = response.text\n",
    "soup = BeautifulSoup(html, 'html.parser')\n",
    "css = '#hscdGrid > div > div.ag-root-wrapper-body.ag-layout-normal > div.ag-root.ag-unselectable.ag-layout-normal > div.ag-body-viewport.ag-layout-normal.ag-row-no-animation > div.ag-center-cols-clipper > div > div > div.ag-row.ag-row-no-focus.ag-row-even.ag-row-level-0.ag-row-position-absolute.ag-row-first > div:nth-child(1)'\n",
    "test = soup.select_one(css)\n",
    "test.get_text\n"
   ]
  },
  {
   "cell_type": "code",
   "execution_count": 3,
   "metadata": {},
   "outputs": [],
   "source": [
    "class testsc(sc.Spider):\n",
    "    name = 'kotra_0824'\n",
    "    allowed_domains = ['kotra.or.kr']\n",
    "    start_urls = ['https://www.kotra.or.kr/']\n",
    "    \n",
    "    def start_requests(self):\n",
    "        urls = [\n",
    "            'https://www.kotra.or.kr/bigdata/visualization/korea#search/ALL/160100/2019',\n",
    "            'https://www.kotra.or.kr/bigdata/visualization/korea#search/ALL/160100/2028'\n",
    "        ]\n",
    "        for url in urls:\n",
    "            yield sc.Request(url=url, callback=self.parse)\n",
    "    \n",
    "    def parse(self, response, **kwargs):\n",
    "        page = response.url.split('/')[-6]\n",
    "        filename = f'quotes-{page}.html'\n",
    "        with open(filename, 'wb') as f:\n",
    "            f.write(response.body)\n",
    "            \n",
    "        self.log(f'Saved File {filename}')\n"
   ]
  },
  {
   "cell_type": "code",
   "execution_count": null,
   "metadata": {},
   "outputs": [],
   "source": []
  }
 ],
 "metadata": {
  "kernelspec": {
   "display_name": "Python 3.8.13 ('gibo')",
   "language": "python",
   "name": "python3"
  },
  "language_info": {
   "codemirror_mode": {
    "name": "ipython",
    "version": 3
   },
   "file_extension": ".py",
   "mimetype": "text/x-python",
   "name": "python",
   "nbconvert_exporter": "python",
   "pygments_lexer": "ipython3",
   "version": "3.8.13"
  },
  "orig_nbformat": 4,
  "vscode": {
   "interpreter": {
    "hash": "dc1e82e8c2e80dfa7e7e3acbec24fc4d7ec5d11c3457420f2152c3746fdf3c94"
   }
  }
 },
 "nbformat": 4,
 "nbformat_minor": 2
}
